{
 "cells": [
  {
   "cell_type": "markdown",
   "id": "6f8c5454",
   "metadata": {},
   "source": [
    "This is the first step in order to perform sentiment analysis on Walmart company reviews.\n",
    "\n",
    "We are using BeautifulSoup library to scrape Walmart company reviews and ratings from Indeed. To limit the sample data, it is been filtered for Bentonville, AR location. The data is then saved as a DataFrame in Pandas before downloading it as .csv file."
   ]
  },
  {
   "cell_type": "code",
   "execution_count": 37,
   "id": "3312c0ac",
   "metadata": {},
   "outputs": [],
   "source": [
    "import requests as r\n",
    "from bs4 import BeautifulSoup as b\n",
    "import pandas as p\n",
    "\n",
    "df = p.DataFrame({'Summary': [], 'Review': [], 'Rating':[]})\n",
    "\n",
    "#Scraping data using BeautifulSoup and saving it to a .csv file\n",
    "for i in range(0,1980,20):\n",
    "    url = (f'https://www.indeed.com/cmp/Walmart/reviews?fcountry=US&floc=Bentonville%2C+AR&start={i}')\n",
    "    header = {\"User-Agent\":\"Mozilla/5.0 Gecko/20100101 Firefox/33.0 GoogleChrome/10.0\"}\n",
    "    pages = r.get(url,headers = header)\n",
    "    soup = b(pages.content,'lxml')\n",
    "    results = soup.find('div', attrs = { 'id' : 'cmp-container'})\n",
    "    elements = results.find_all('div', attrs = { 'itemprop': 'review'})\n",
    "    \n",
    "    for elem in elements:\n",
    "        titleDiv  = elem.find('div', attrs = {'class':'css-e6s05i eu4oa1w0'})\n",
    "        title    =  titleDiv.find('h2', attrs = {'data-testid': 'title'})\n",
    "        reviewBody = elem.find('div', attrs = {'data-tn-component': 'reviewDescription'})\n",
    "        rating  = elem.find('div', attrs = {'itemprop':'reviewRating'})\n",
    "        df = df.append({'Summary': title.text, 'Review':reviewBody.text, 'Rating':rating.text,},\n",
    "                       ignore_index=True)\n",
    "df.to_csv('Walmart_Indeed.csv')\n",
    "    \n"
   ]
  },
  {
   "cell_type": "code",
   "execution_count": null,
   "id": "4f80f528",
   "metadata": {},
   "outputs": [],
   "source": []
  },
  {
   "cell_type": "code",
   "execution_count": null,
   "id": "4b9f5650",
   "metadata": {},
   "outputs": [],
   "source": []
  },
  {
   "cell_type": "code",
   "execution_count": null,
   "id": "649b8aba",
   "metadata": {},
   "outputs": [],
   "source": []
  }
 ],
 "metadata": {
  "kernelspec": {
   "display_name": "Python 3",
   "language": "python",
   "name": "python3"
  },
  "language_info": {
   "codemirror_mode": {
    "name": "ipython",
    "version": 3
   },
   "file_extension": ".py",
   "mimetype": "text/x-python",
   "name": "python",
   "nbconvert_exporter": "python",
   "pygments_lexer": "ipython3",
   "version": "3.8.8"
  }
 },
 "nbformat": 4,
 "nbformat_minor": 5
}
